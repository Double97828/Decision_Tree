{
 "cells": [
  {
   "cell_type": "code",
   "execution_count": 1,
   "metadata": {
    "colab": {},
    "colab_type": "code",
    "id": "pWeXlQ5_ZcSY"
   },
   "outputs": [],
   "source": [
    "from __future__ import division\n",
    "from anytree import Node, RenderTree\n",
    "from anytree.exporter import DotExporter\n",
    "import matplotlib.pyplot as plt\n",
    "import math\n",
    "import numpy as np\n",
    "import sys\n",
    "import random"
   ]
  },
  {
   "cell_type": "code",
   "execution_count": 2,
   "metadata": {
    "colab": {},
    "colab_type": "code",
    "id": "De-b6vC8ZcSb"
   },
   "outputs": [],
   "source": [
    "def read_data(id):\n",
    "    f = open(id)\n",
    "    result = [[float(elem) for elem in row.split(',')]for row in f.read().split('\\n')[1:]]\n",
    "    f.close()\n",
    "    return result"
   ]
  },
  {
   "cell_type": "code",
   "execution_count": 3,
   "metadata": {
    "colab": {},
    "colab_type": "code",
    "id": "IYP-rYbSZcSd"
   },
   "outputs": [],
   "source": [
    "def entropy(dist):\n",
    "    p = dist[0]\n",
    "    n = dist[1]\n",
    "    if p == 0:\n",
    "        return -n/(p+n) * math.log(n/(p+n),2)\n",
    "    elif n == 0:\n",
    "        return -p/(p+n) * math.log(p/(p+n),2)\n",
    "    \n",
    "    result = -(p/(p+n) * math.log(p/(p+n),2) + n/(p+n) * math.log(n/(p+n),2))\n",
    "    return result\n",
    "    "
   ]
  },
  {
   "cell_type": "code",
   "execution_count": 4,
   "metadata": {
    "colab": {},
    "colab_type": "code",
    "id": "ujfRTmyTZcSf",
    "scrolled": false
   },
   "outputs": [],
   "source": [
    "def choose_split(col,occ):\n",
    "    d = {}\n",
    "    p = occ.count(1);\n",
    "    n = occ.count(0);\n",
    "    p1 = 0\n",
    "    n1 = 0\n",
    "    for i in range(len(col)):\n",
    "        if col[i] in d:\n",
    "            d[col[i]].append(occ[i])\n",
    "        else:\n",
    "            d[col[i]] = [occ[i]]\n",
    "    key = []\n",
    "    for k,v in d.items():\n",
    "        pi = v.count(1)\n",
    "        ni = v.count(0)\n",
    "        d[k] = [pi, ni]\n",
    "        key.append(k)\n",
    "    key.sort()\n",
    "    gain = float(\"inf\")\n",
    "    split = -1\n",
    "        \n",
    "    for i in range(len(key) - 1):\n",
    "        j = i + 1;\n",
    "        can_split = True\n",
    "        p_1 = d[key[i]][0]\n",
    "        p_2 = d[key[j]][0]\n",
    "        n_1 = d[key[i]][1]\n",
    "        n_2 = d[key[j]][1]\n",
    "        if((p_1 == 0 and p_2 == 0) or ( n_1 == 0 and n_2 == 0)):\n",
    "            can_split = False\n",
    "        p1 += p_1\n",
    "        n1 += n_1\n",
    "        p2 = p - p1\n",
    "        n2 = n - n1\n",
    "        dist1=[p1,n1]\n",
    "        dist2=[p2,n2]\n",
    "        newgain = (p1 + n1)*entropy(dist1) + (p2 + n2)*entropy(dist2)\n",
    "        if((newgain < gain )and can_split):\n",
    "            gain = newgain\n",
    "            split = (key[i] + key[j]) / 2\n",
    "    return [split, gain]\n",
    "    \n",
    "\n",
    "\n",
    "        "
   ]
  },
  {
   "cell_type": "code",
   "execution_count": 5,
   "metadata": {
    "colab": {},
    "colab_type": "code",
    "id": "9ghuwIXLZcSh"
   },
   "outputs": [],
   "source": [
    "def choose_feature_split(data):\n",
    "    feature = 0\n",
    "    split = -1\n",
    "    gain = float(\"inf\")\n",
    "    s_gain = []\n",
    "    occ = [row[-1] for row in data]\n",
    "    for i in range(len(data[0]) - 1):\n",
    "        col = [row[i] for row in data]\n",
    "        s_gain = choose_split(col, occ)\n",
    "        if s_gain[1] < gain:\n",
    "            gain = s_gain[1]\n",
    "            split = s_gain[0]\n",
    "            feature = i\n",
    "    return [feature,split]"
   ]
  },
  {
   "cell_type": "code",
   "execution_count": 6,
   "metadata": {
    "colab": {},
    "colab_type": "code",
    "id": "PtrEmTV5ZcSj"
   },
   "outputs": [],
   "source": [
    "class node:\n",
    "    def split_node(self, data, max_depth):\n",
    "        n = choose_feature_split(data)\n",
    "        self.split = None\n",
    "        if n[1] != -1 and max_depth != 1 :\n",
    "            self.split = n[1]\n",
    "            self.feature = n[0]\n",
    "            self.right = node()\n",
    "            self.left = node()\n",
    "            self.right.parent = self\n",
    "            self.left.parent = self\n",
    "            max_depth-=1\n",
    "            self.right.split_node(list(filter(lambda x:x[self.feature] > self.split, data)), max_depth)\n",
    "            self.left.split_node(list(filter(lambda x:x[self.feature] < self.split, data)), max_depth)\n",
    "        else :\n",
    "            occ = [row[-1] for row in data]\n",
    "            p = occ.count(1)\n",
    "            n = occ.count(0)\n",
    "            if(p > n):\n",
    "                self.label = 1\n",
    "            else:\n",
    "                self.label = 0\n",
    "                \n",
    "                \n",
    "                \n",
    "                \n",
    "    def get_decision(self, one_data_point):\n",
    "        if self.split:\n",
    "            if one_data_point[self.feature] < self.split:\n",
    "                return self.left.get_decision(one_data_point)\n",
    "            else :\n",
    "                return self.right.get_decision(one_data_point)\n",
    "        else:\n",
    "            return self.label"
   ]
  },
  {
   "cell_type": "code",
   "execution_count": 17,
   "metadata": {
    "colab": {},
    "colab_type": "code",
    "id": "UO8Ow3MYZcSk"
   },
   "outputs": [],
   "source": [
    "class root:\n",
    "    leafcount = 0\n",
    "    def train_tree(self, data, max_depth):\n",
    "        self.root = node()\n",
    "        self.root.split_node(data,max_depth)\n",
    "        \n",
    "    def get_prediction_accuracy(self, data):\n",
    "        count = 0\n",
    "        for row in data:\n",
    "            if self.root.get_decision(row) == row[-1]:\n",
    "                count+=1\n",
    "        return count / len(data)\n",
    "    \n",
    "        \n",
    "    def plot_node(self, node, parent=None):\n",
    "        cur = None\n",
    "        if node.split:\n",
    "            cur = Node(\"feature index:\" + str(node.feature)+\"   split point:\"+str(node.split), parent = parent)\n",
    "            self.plot_node(node.left, cur)\n",
    "            self.plot_node(node.right, cur)\n",
    "        else:\n",
    "            Node(str(root.leafcount) + \" Leaf label:\"+str(node.label), parent = parent)\n",
    "            root.leafcount+=1\n",
    "        if parent == None:\n",
    "            self.rootAnytreeNode = cur\n",
    "        \n",
    "        \n",
    "    def plot_tree(self, file_path):\n",
    "        self.plot_node(self.root)\n",
    "        DotExporter(self.rootAnytreeNode).to_picture(file_path)\n",
    "        \n",
    "        "
   ]
  },
  {
   "cell_type": "code",
   "execution_count": 18,
   "metadata": {
    "colab": {},
    "colab_type": "code",
    "id": "yUz3RH7gZcSo"
   },
   "outputs": [],
   "source": [
    "d = read_data(\"occupancy_A.csv\")"
   ]
  },
  {
   "cell_type": "code",
   "execution_count": 19,
   "metadata": {
    "colab": {
     "base_uri": "https://localhost:8080/",
     "height": 34
    },
    "colab_type": "code",
    "id": "9Y8hYEaAZcSq",
    "outputId": "aa5b334b-c5ac-4157-8ad5-5cd2da2a503a"
   },
   "outputs": [
    {
     "name": "stdout",
     "output_type": "stream",
     "text": [
      "trainning accuracy is 1.0\n"
     ]
    }
   ],
   "source": [
    "t = root()\n",
    "t.train_tree(d, 100)\n",
    "print(\"trainning accuracy is \" + str(t.get_prediction_accuracy(d)))\n",
    "t.plot_tree(\"t1.pdf\")"
   ]
  },
  {
   "cell_type": "code",
   "execution_count": 20,
   "metadata": {
    "colab": {},
    "colab_type": "code",
    "id": "-MJAgXNbZcSt"
   },
   "outputs": [],
   "source": [
    "def cross_validation(data, file_path):\n",
    "    total = len(data)\n",
    "    every = int(total / 5)\n",
    "    accVal = []\n",
    "    accTra = []\n",
    "    random.shuffle(data)\n",
    "    for depth in range(2,30):\n",
    "        acc_valid = 0\n",
    "        acc_train = 0\n",
    "        for i in range(5):\n",
    "            valid = []\n",
    "            start = i * every\n",
    "            end = (i + 1) * every\n",
    "            if end > total:\n",
    "                end = total\n",
    "            valid = data[start:end]\n",
    "            train = data[:start]\n",
    "            train_else = data[end:]\n",
    "            train += train_else\n",
    "            t = root()\n",
    "            t.train_tree(train, depth)\n",
    "            acc_valid += t.get_prediction_accuracy(valid)\n",
    "            acc_train += t.get_prediction_accuracy(train)\n",
    "            \n",
    "        accVal.append(acc_valid/5)\n",
    "        accTra.append(acc_train/5)\n",
    "    plt.plot(range(2, 30), accVal, range(2, 30), accTra )\n",
    "    plt.xlabel('depth')\n",
    "    plt.ylabel('accuracy')\n",
    "    plt.show()\n",
    "    return accVal.index(max(accVal)) + 2\n",
    "    "
   ]
  },
  {
   "cell_type": "code",
   "execution_count": 21,
   "metadata": {
    "colab": {
     "base_uri": "https://localhost:8080/",
     "height": 283
    },
    "colab_type": "code",
    "id": "DgGyl5V3ZcSw",
    "outputId": "90b55a7f-fb11-4f89-da68-4fa6526a6f62",
    "scrolled": true
   },
   "outputs": [
    {
     "data": {
      "image/png": "[encoded data removed]",
      "text/plain": [
       "<Figure size 432x288 with 1 Axes>"
      ]
     },
     "metadata": {
      "needs_background": "light"
     },
     "output_type": "display_data"
    }
   ],
   "source": [
    "max_dep = cross_validation(d,\"a\")"
   ]
  },
  {
   "cell_type": "code",
   "execution_count": 24,
   "metadata": {
    "colab": {
     "base_uri": "https://localhost:8080/",
     "height": 34
    },
    "colab_type": "code",
    "id": "cqmmNFbNZcSz",
    "outputId": "b5b699f6-51f3-4a02-d9b8-1c9baaee2e53"
   },
   "outputs": [
    {
     "name": "stdout",
     "output_type": "stream",
     "text": [
      "best depth is 15 trainning accuracy is 0.9983949416342413\n"
     ]
    }
   ],
   "source": [
    "t = root()\n",
    "t.train_tree(d, max_dep)\n",
    "print (\"best depth is\", str(max_dep) , \"trainning accuracy is\" , str(t.get_prediction_accuracy(d)))\n",
    "t.plot_tree(\"t2.pdf\")"
   ]
  },
  {
   "cell_type": "code",
   "execution_count": 26,
   "metadata": {
    "colab": {
     "base_uri": "https://localhost:8080/",
     "height": 300
    },
    "colab_type": "code",
    "id": "3IC2QCCJZcS1",
    "outputId": "d5dd8c7b-1f37-47d6-d572-ef21b243e142"
   },
   "outputs": [
    {
     "data": {
      "image/png": "[encoded data removed]",
      "text/plain": [
       "<Figure size 432x288 with 1 Axes>"
      ]
     },
     "metadata": {
      "needs_background": "light"
     },
     "output_type": "display_data"
    },
    {
     "name": "stdout",
     "output_type": "stream",
     "text": [
      "best depth is22trainning accuracy is 0.9991731517509728\n"
     ]
    }
   ],
   "source": [
    "d = read_data(\"occupancy_B.csv\")\n",
    "max_dep = cross_validation(d,\"a\")\n",
    "t = root()\n",
    "t.train_tree(d, max_dep)\n",
    "print (\"best depth is\" + str(max_dep) + \"trainning accuracy is\", str(t.get_prediction_accuracy(d)))\n",
    "t.plot_tree(\"t3.pdf\")"
   ]
  },
  {
   "cell_type": "code",
   "execution_count": null,
   "metadata": {
    "colab": {},
    "colab_type": "code",
    "id": "zWT_Ich8oKj-"
   },
   "outputs": [],
   "source": []
  },
  {
   "cell_type": "code",
   "execution_count": null,
   "metadata": {
    "colab": {},
    "colab_type": "code",
    "id": "AG6n_AsCZcS4"
   },
   "outputs": [],
   "source": []
  },
  {
   "cell_type": "code",
   "execution_count": null,
   "metadata": {},
   "outputs": [],
   "source": []
  },
  {
   "cell_type": "code",
   "execution_count": null,
   "metadata": {},
   "outputs": [],
   "source": []
  }
 ],
 "metadata": {
  "colab": {
   "name": "Untitled.ipynb",
   "provenance": [],
   "version": "0.3.2"
  },
  "kernelspec": {
   "display_name": "Python 3",
   "language": "python",
   "name": "python3"
  },
  "language_info": {
   "codemirror_mode": {
    "name": "ipython",
    "version": 3
   },
   "file_extension": ".py",
   "mimetype": "text/x-python",
   "name": "python",
   "nbconvert_exporter": "python",
   "pygments_lexer": "ipython3",
   "version": "3.8.5"
  }
 },
 "nbformat": 4,
 "nbformat_minor": 1
}
